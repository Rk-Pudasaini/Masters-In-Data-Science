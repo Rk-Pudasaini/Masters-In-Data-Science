{
  "nbformat": 4,
  "nbformat_minor": 0,
  "metadata": {
    "colab": {
      "provenance": []
    },
    "kernelspec": {
      "name": "python3",
      "display_name": "Python 3"
    },
    "language_info": {
      "name": "python"
    }
  },
  "cells": [
    {
      "cell_type": "code",
      "source": [
        "from tensorflow import keras\n",
        "from tensorflow.keras.models import Sequential\n",
        "from tensorflow.keras.layers import Dense, Flatten, Conv2D, MaxPooling2D\n",
        "from tensorflow.keras.preprocessing.image import ImageDataGenerator\n",
        "import numpy as np\n",
        "import matplotlib.pyplot as plt\n",
        "from sklearn.model_selection import train_test_split\n"
      ],
      "metadata": {
        "id": "XeU8JQj8AB9u"
      },
      "execution_count": 6,
      "outputs": []
    },
    {
      "cell_type": "code",
      "source": [
        "#using keras to load the datasets\n",
        "(x_train, y_train), (x_test, y_test) = keras.datasets.fashion_mnist.load_data()"
      ],
      "metadata": {
        "colab": {
          "base_uri": "https://localhost:8080/"
        },
        "id": "cbeH3W2BAc2x",
        "outputId": "af53af35-7f3d-42e8-8b0d-1f08dcfe2fe1"
      },
      "execution_count": 2,
      "outputs": [
        {
          "output_type": "stream",
          "name": "stdout",
          "text": [
            "Downloading data from https://storage.googleapis.com/tensorflow/tf-keras-datasets/train-labels-idx1-ubyte.gz\n",
            "29515/29515 [==============================] - 0s 1us/step\n",
            "Downloading data from https://storage.googleapis.com/tensorflow/tf-keras-datasets/train-images-idx3-ubyte.gz\n",
            "26421880/26421880 [==============================] - 2s 0us/step\n",
            "Downloading data from https://storage.googleapis.com/tensorflow/tf-keras-datasets/t10k-labels-idx1-ubyte.gz\n",
            "5148/5148 [==============================] - 0s 0us/step\n",
            "Downloading data from https://storage.googleapis.com/tensorflow/tf-keras-datasets/t10k-images-idx3-ubyte.gz\n",
            "4422102/4422102 [==============================] - 1s 0us/step\n"
          ]
        }
      ]
    },
    {
      "cell_type": "code",
      "source": [
        "x_train.shape"
      ],
      "metadata": {
        "colab": {
          "base_uri": "https://localhost:8080/"
        },
        "id": "1qc6HzCZAknu",
        "outputId": "51c4d5ea-7d60-4444-801b-dbb5046fa7a8"
      },
      "execution_count": 3,
      "outputs": [
        {
          "output_type": "execute_result",
          "data": {
            "text/plain": [
              "(60000, 28, 28)"
            ]
          },
          "metadata": {},
          "execution_count": 3
        }
      ]
    },
    {
      "cell_type": "code",
      "source": [
        "# Preprocess the data\n",
        "x_train = x_train.astype('float32') / 255.0\n",
        "x_test = x_test.astype('float32') / 255.0\n",
        "\n",
        "# Reshape the data\n",
        "x_train = x_train.reshape((x_train.shape[0], 28, 28, 1))\n",
        "x_test = x_test.reshape((x_test.shape[0], 28, 28, 1))\n",
        "\n",
        "# Split the data into train and validation sets\n",
        "x_train, x_val, y_train, y_val = train_test_split(x_train, y_train, test_size=0.2, random_state=42)\n",
        "\n",
        "# Create the model\n",
        "model = Sequential()\n",
        "model.add(Conv2D(32, (3, 3), activation='relu', input_shape=(28, 28, 1)))\n",
        "model.add(MaxPooling2D((2, 2)))\n",
        "model.add(Conv2D(64, (3, 3), activation='relu'))\n",
        "model.add(MaxPooling2D((2, 2)))\n",
        "model.add(Flatten())\n",
        "model.add(Dense(128, activation='relu'))\n",
        "model.add(Dense(10, activation='softmax'))\n",
        "\n",
        "# Compile the model\n",
        "model.compile(optimizer='adam', loss='sparse_categorical_crossentropy', metrics=['accuracy'])\n",
        "\n",
        "# Train the model\n",
        "model.fit(x_train, y_train, epochs=10, validation_data=(x_val, y_val))\n",
        "\n",
        "# Evaluate the model\n",
        "model.evaluate(x_test, y_test)\n"
      ],
      "metadata": {
        "colab": {
          "base_uri": "https://localhost:8080/"
        },
        "id": "rgd8IkJ7CtkX",
        "outputId": "4559eac4-5ebd-4494-848f-99cb18c82d10"
      },
      "execution_count": 4,
      "outputs": [
        {
          "output_type": "stream",
          "name": "stdout",
          "text": [
            "Epoch 1/10\n",
            "1500/1500 [==============================] - 50s 32ms/step - loss: 0.4723 - accuracy: 0.8304 - val_loss: 0.3561 - val_accuracy: 0.8712\n",
            "Epoch 2/10\n",
            "1500/1500 [==============================] - 48s 32ms/step - loss: 0.3174 - accuracy: 0.8852 - val_loss: 0.2977 - val_accuracy: 0.8902\n",
            "Epoch 3/10\n",
            "1500/1500 [==============================] - 48s 32ms/step - loss: 0.2689 - accuracy: 0.9000 - val_loss: 0.2831 - val_accuracy: 0.8959\n",
            "Epoch 4/10\n",
            "1500/1500 [==============================] - 49s 33ms/step - loss: 0.2388 - accuracy: 0.9118 - val_loss: 0.2712 - val_accuracy: 0.9013\n",
            "Epoch 5/10\n",
            "1500/1500 [==============================] - 45s 30ms/step - loss: 0.2125 - accuracy: 0.9229 - val_loss: 0.2657 - val_accuracy: 0.9046\n",
            "Epoch 6/10\n",
            "1500/1500 [==============================] - 48s 32ms/step - loss: 0.1890 - accuracy: 0.9308 - val_loss: 0.2558 - val_accuracy: 0.9061\n",
            "Epoch 7/10\n",
            "1500/1500 [==============================] - 46s 31ms/step - loss: 0.1687 - accuracy: 0.9370 - val_loss: 0.2496 - val_accuracy: 0.9132\n",
            "Epoch 8/10\n",
            "1500/1500 [==============================] - 48s 32ms/step - loss: 0.1484 - accuracy: 0.9450 - val_loss: 0.2698 - val_accuracy: 0.9086\n",
            "Epoch 9/10\n",
            "1500/1500 [==============================] - 49s 32ms/step - loss: 0.1339 - accuracy: 0.9500 - val_loss: 0.2713 - val_accuracy: 0.9093\n",
            "Epoch 10/10\n",
            "1500/1500 [==============================] - 49s 32ms/step - loss: 0.1178 - accuracy: 0.9570 - val_loss: 0.2764 - val_accuracy: 0.9118\n",
            "313/313 [==============================] - 3s 8ms/step - loss: 0.3085 - accuracy: 0.9029\n"
          ]
        },
        {
          "output_type": "execute_result",
          "data": {
            "text/plain": [
              "[0.3085053563117981, 0.902899980545044]"
            ]
          },
          "metadata": {},
          "execution_count": 4
        }
      ]
    },
    {
      "cell_type": "code",
      "source": [
        "model.summary()"
      ],
      "metadata": {
        "colab": {
          "base_uri": "https://localhost:8080/"
        },
        "id": "PbcCNjtKFGF_",
        "outputId": "8cf1d000-9b56-4f79-d1f0-7d39ae15ef57"
      },
      "execution_count": 5,
      "outputs": [
        {
          "output_type": "stream",
          "name": "stdout",
          "text": [
            "Model: \"sequential\"\n",
            "_________________________________________________________________\n",
            " Layer (type)                Output Shape              Param #   \n",
            "=================================================================\n",
            " conv2d (Conv2D)             (None, 26, 26, 32)        320       \n",
            "                                                                 \n",
            " max_pooling2d (MaxPooling2  (None, 13, 13, 32)        0         \n",
            " D)                                                              \n",
            "                                                                 \n",
            " conv2d_1 (Conv2D)           (None, 11, 11, 64)        18496     \n",
            "                                                                 \n",
            " max_pooling2d_1 (MaxPoolin  (None, 5, 5, 64)          0         \n",
            " g2D)                                                            \n",
            "                                                                 \n",
            " flatten (Flatten)           (None, 1600)              0         \n",
            "                                                                 \n",
            " dense (Dense)               (None, 128)               204928    \n",
            "                                                                 \n",
            " dense_1 (Dense)             (None, 10)                1290      \n",
            "                                                                 \n",
            "=================================================================\n",
            "Total params: 225034 (879.04 KB)\n",
            "Trainable params: 225034 (879.04 KB)\n",
            "Non-trainable params: 0 (0.00 Byte)\n",
            "_________________________________________________________________\n"
          ]
        }
      ]
    },
    {
      "cell_type": "code",
      "source": [
        "model.layers"
      ],
      "metadata": {
        "colab": {
          "base_uri": "https://localhost:8080/"
        },
        "id": "PFAevkpDKf1s",
        "outputId": "9d42e026-5c0c-4355-c2ab-a4c6af22b99c"
      },
      "execution_count": 7,
      "outputs": [
        {
          "output_type": "execute_result",
          "data": {
            "text/plain": [
              "[<keras.src.layers.convolutional.conv2d.Conv2D at 0x78946c2bfdf0>,\n",
              " <keras.src.layers.pooling.max_pooling2d.MaxPooling2D at 0x7894eeccc550>,\n",
              " <keras.src.layers.convolutional.conv2d.Conv2D at 0x7894683c2500>,\n",
              " <keras.src.layers.pooling.max_pooling2d.MaxPooling2D at 0x7894683c2380>,\n",
              " <keras.src.layers.reshaping.flatten.Flatten at 0x7894683c24d0>,\n",
              " <keras.src.layers.core.dense.Dense at 0x7894683c3bb0>,\n",
              " <keras.src.layers.core.dense.Dense at 0x7894683c35b0>]"
            ]
          },
          "metadata": {},
          "execution_count": 7
        }
      ]
    },
    {
      "cell_type": "code",
      "source": [
        "#using the model to make prediction\n",
        "X_new = x_test[:3]  #taking first three instance of test set\n",
        "y_predict = model.predict(X_new)\n",
        "y_predict.round(2)\n"
      ],
      "metadata": {
        "colab": {
          "base_uri": "https://localhost:8080/"
        },
        "id": "2qF88CmKNqnx",
        "outputId": "21a53df3-76d3-4fae-978d-cbbc28faa471"
      },
      "execution_count": 10,
      "outputs": [
        {
          "output_type": "stream",
          "name": "stdout",
          "text": [
            "1/1 [==============================] - 0s 20ms/step\n"
          ]
        },
        {
          "output_type": "execute_result",
          "data": {
            "text/plain": [
              "array([[0.  , 0.  , 0.  , 0.  , 0.  , 0.  , 0.  , 0.  , 0.  , 1.  ],\n",
              "       [0.  , 0.  , 0.77, 0.  , 0.23, 0.  , 0.01, 0.  , 0.  , 0.  ],\n",
              "       [0.  , 1.  , 0.  , 0.  , 0.  , 0.  , 0.  , 0.  , 0.  , 0.  ]],\n",
              "      dtype=float32)"
            ]
          },
          "metadata": {},
          "execution_count": 10
        }
      ]
    },
    {
      "cell_type": "code",
      "source": [
        "# Save the model\n",
        "model.save('fashion_mnist_classifier.h5')\n"
      ],
      "metadata": {
        "colab": {
          "base_uri": "https://localhost:8080/"
        },
        "id": "WvqfrwG4_eKM",
        "outputId": "2fa8980c-ed84-4e88-e9ec-1ae098aff50b"
      },
      "execution_count": 17,
      "outputs": [
        {
          "output_type": "stream",
          "name": "stderr",
          "text": [
            "/usr/local/lib/python3.10/dist-packages/keras/src/engine/training.py:3103: UserWarning: You are saving your model as an HDF5 file via `model.save()`. This file format is considered legacy. We recommend using instead the native Keras format, e.g. `model.save('my_model.keras')`.\n",
            "  saving_api.save_model(\n"
          ]
        }
      ]
    },
    {
      "cell_type": "code",
      "source": [
        "class_labels = ['T-shirt/top', 'Trouser', 'Pullover', 'Dress', 'Coat', 'Sandal', 'Shirt', 'Sneaker', 'Bag', 'Ankle boot']\n",
        "\n",
        "# Load the saved model\n",
        "loaded_model = keras.models.load_model('fashion_mnist_classifier.h5')\n",
        "\n",
        "# Make predictions on the test set\n",
        "predictions = loaded_model.predict(x_test)\n",
        "\n",
        "# Display some sample predictions along with the actual labels\n",
        "num_samples_to_display = 2\n",
        "for i in range(num_samples_to_display):\n",
        " # Display the actual label\n",
        "    actual_label = y_test[i]\n",
        "    actual_class = f\"Actual Class: {actual_label} - {class_labels[actual_label]}\"\n",
        "\n",
        "    # Display the predicted label\n",
        "    predicted_label = np.argmax(predictions[i])\n",
        "    predicted_class = f\"Predicted Class: {predicted_label} - {class_labels[predicted_label]}\"\n",
        "\n",
        "    # Display the image\n",
        "    plt.imshow(x_test[i].reshape(28, 28), cmap='gray')\n",
        "    plt.title(f\"{actual_class}\\n{predicted_class}\")\n",
        "    plt.show()\n"
      ],
      "metadata": {
        "colab": {
          "base_uri": "https://localhost:8080/",
          "height": 947
        },
        "id": "hSnhRekYSTlS",
        "outputId": "747b1d4d-84a8-4f1c-979e-961fbc771fea"
      },
      "execution_count": 21,
      "outputs": [
        {
          "output_type": "stream",
          "name": "stdout",
          "text": [
            "313/313 [==============================] - 3s 11ms/step\n"
          ]
        },
        {
          "output_type": "display_data",
          "data": {
            "text/plain": [
              "<Figure size 640x480 with 1 Axes>"
            ],
            "image/png": "[encoded data removed]"
          },
          "metadata": {}
        },
        {
          "output_type": "display_data",
          "data": {
            "text/plain": [
              "<Figure size 640x480 with 1 Axes>"
            ],
            "image/png": "[encoded data removed]"
          },
          "metadata": {}
        }
      ]
    },
    {
      "cell_type": "code",
      "source": [],
      "metadata": {
        "id": "cxOXYqEgVWPR"
      },
      "execution_count": null,
      "outputs": []
    }
  ]
}